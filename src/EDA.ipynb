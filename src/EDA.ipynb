{
 "cells": [
  {
   "cell_type": "code",
   "execution_count": 1,
   "metadata": {},
   "outputs": [],
   "source": [
    "import pandas as pd\n",
    "import numpy as np\n",
    "#import altair as alt\n",
    "import matplotlib.pyplot as plt\n",
    "import seaborn as sns"
   ]
  },
  {
   "cell_type": "code",
   "execution_count": 2,
   "metadata": {},
   "outputs": [
    {
     "name": "stderr",
     "output_type": "stream",
     "text": [
      "C:\\Users\\maxym\\anaconda3\\lib\\site-packages\\IPython\\core\\interactiveshell.py:3071: DtypeWarning: Columns (44,46,48) have mixed types.Specify dtype option on import or set low_memory=False.\n",
      "  has_raised = await self.run_ast_nodes(code_ast.body, cell_name,\n"
     ]
    },
    {
     "data": {
      "text/html": [
       "<div>\n",
       "<style scoped>\n",
       "    .dataframe tbody tr th:only-of-type {\n",
       "        vertical-align: middle;\n",
       "    }\n",
       "\n",
       "    .dataframe tbody tr th {\n",
       "        vertical-align: top;\n",
       "    }\n",
       "\n",
       "    .dataframe thead th {\n",
       "        text-align: right;\n",
       "    }\n",
       "</style>\n",
       "<table border=\"1\" class=\"dataframe\">\n",
       "  <thead>\n",
       "    <tr style=\"text-align: right;\">\n",
       "      <th></th>\n",
       "      <th>respondent_id</th>\n",
       "      <th>agency_abbr</th>\n",
       "      <th>loan_type_name</th>\n",
       "      <th>property_type_name</th>\n",
       "      <th>loan_purpose_name</th>\n",
       "      <th>owner_occupancy_name</th>\n",
       "      <th>loan_amount_000s</th>\n",
       "      <th>preapproval_name</th>\n",
       "      <th>action_taken_name</th>\n",
       "      <th>msamd_name</th>\n",
       "      <th>...</th>\n",
       "      <th>rate_spread</th>\n",
       "      <th>hoepa_status_name</th>\n",
       "      <th>lien_status_name</th>\n",
       "      <th>population</th>\n",
       "      <th>minority_population</th>\n",
       "      <th>hud_median_family_income</th>\n",
       "      <th>tract_to_msamd_income</th>\n",
       "      <th>number_of_owner_occupied_units</th>\n",
       "      <th>number_of_1_to_4_family_units</th>\n",
       "      <th>denied</th>\n",
       "    </tr>\n",
       "  </thead>\n",
       "  <tbody>\n",
       "    <tr>\n",
       "      <th>0</th>\n",
       "      <td>75-2921540</td>\n",
       "      <td>HUD</td>\n",
       "      <td>Conventional</td>\n",
       "      <td>One-to-four family dwelling (other than manufa...</td>\n",
       "      <td>Refinancing</td>\n",
       "      <td>Owner-occupied as a principal dwelling</td>\n",
       "      <td>53.0</td>\n",
       "      <td>Not applicable</td>\n",
       "      <td>Application withdrawn by applicant</td>\n",
       "      <td>Philadelphia - PA</td>\n",
       "      <td>...</td>\n",
       "      <td>NaN</td>\n",
       "      <td>Not a HOEPA loan</td>\n",
       "      <td>Secured by a first lien</td>\n",
       "      <td>3202.0</td>\n",
       "      <td>97.279999</td>\n",
       "      <td>57400.0</td>\n",
       "      <td>47.540001</td>\n",
       "      <td>710.0</td>\n",
       "      <td>1314.0</td>\n",
       "      <td>0</td>\n",
       "    </tr>\n",
       "    <tr>\n",
       "      <th>1</th>\n",
       "      <td>0000504713</td>\n",
       "      <td>CFPB</td>\n",
       "      <td>Conventional</td>\n",
       "      <td>One-to-four family dwelling (other than manufa...</td>\n",
       "      <td>Refinancing</td>\n",
       "      <td>Owner-occupied as a principal dwelling</td>\n",
       "      <td>168.0</td>\n",
       "      <td>Not applicable</td>\n",
       "      <td>Application denied by financial institution</td>\n",
       "      <td>Spokane, Spokane Valley - WA</td>\n",
       "      <td>...</td>\n",
       "      <td>NaN</td>\n",
       "      <td>Not a HOEPA loan</td>\n",
       "      <td>Secured by a first lien</td>\n",
       "      <td>3733.0</td>\n",
       "      <td>4.580000</td>\n",
       "      <td>63900.0</td>\n",
       "      <td>86.239998</td>\n",
       "      <td>861.0</td>\n",
       "      <td>1241.0</td>\n",
       "      <td>1</td>\n",
       "    </tr>\n",
       "    <tr>\n",
       "      <th>2</th>\n",
       "      <td>7810600004</td>\n",
       "      <td>HUD</td>\n",
       "      <td>Conventional</td>\n",
       "      <td>One-to-four family dwelling (other than manufa...</td>\n",
       "      <td>Refinancing</td>\n",
       "      <td>Owner-occupied as a principal dwelling</td>\n",
       "      <td>103.0</td>\n",
       "      <td>Not applicable</td>\n",
       "      <td>File closed for incompleteness</td>\n",
       "      <td>Salt Lake City - UT</td>\n",
       "      <td>...</td>\n",
       "      <td>NaN</td>\n",
       "      <td>Not a HOEPA loan</td>\n",
       "      <td>Secured by a first lien</td>\n",
       "      <td>5498.0</td>\n",
       "      <td>37.919998</td>\n",
       "      <td>75400.0</td>\n",
       "      <td>63.939999</td>\n",
       "      <td>1270.0</td>\n",
       "      <td>1658.0</td>\n",
       "      <td>0</td>\n",
       "    </tr>\n",
       "    <tr>\n",
       "      <th>3</th>\n",
       "      <td>42-1739728</td>\n",
       "      <td>HUD</td>\n",
       "      <td>Conventional</td>\n",
       "      <td>One-to-four family dwelling (other than manufa...</td>\n",
       "      <td>Refinancing</td>\n",
       "      <td>Not owner-occupied as a principal dwelling</td>\n",
       "      <td>88.0</td>\n",
       "      <td>Not applicable</td>\n",
       "      <td>Loan originated</td>\n",
       "      <td>Springfield - MO</td>\n",
       "      <td>...</td>\n",
       "      <td>NaN</td>\n",
       "      <td>Not a HOEPA loan</td>\n",
       "      <td>Secured by a first lien</td>\n",
       "      <td>3566.0</td>\n",
       "      <td>11.830000</td>\n",
       "      <td>55200.0</td>\n",
       "      <td>74.290001</td>\n",
       "      <td>573.0</td>\n",
       "      <td>1261.0</td>\n",
       "      <td>0</td>\n",
       "    </tr>\n",
       "    <tr>\n",
       "      <th>4</th>\n",
       "      <td>42-1739728</td>\n",
       "      <td>HUD</td>\n",
       "      <td>Conventional</td>\n",
       "      <td>One-to-four family dwelling (other than manufa...</td>\n",
       "      <td>Refinancing</td>\n",
       "      <td>Owner-occupied as a principal dwelling</td>\n",
       "      <td>90.0</td>\n",
       "      <td>Not applicable</td>\n",
       "      <td>Application withdrawn by applicant</td>\n",
       "      <td>Chicago, Naperville, Arlington Heights - IL</td>\n",
       "      <td>...</td>\n",
       "      <td>NaN</td>\n",
       "      <td>Not a HOEPA loan</td>\n",
       "      <td>Secured by a first lien</td>\n",
       "      <td>2910.0</td>\n",
       "      <td>48.660000</td>\n",
       "      <td>77500.0</td>\n",
       "      <td>79.250000</td>\n",
       "      <td>599.0</td>\n",
       "      <td>26.0</td>\n",
       "      <td>0</td>\n",
       "    </tr>\n",
       "  </tbody>\n",
       "</table>\n",
       "<p>5 rows × 42 columns</p>\n",
       "</div>"
      ],
      "text/plain": [
       "  respondent_id agency_abbr loan_type_name  \\\n",
       "0    75-2921540         HUD   Conventional   \n",
       "1    0000504713        CFPB   Conventional   \n",
       "2    7810600004         HUD   Conventional   \n",
       "3    42-1739728         HUD   Conventional   \n",
       "4    42-1739728         HUD   Conventional   \n",
       "\n",
       "                                  property_type_name loan_purpose_name  \\\n",
       "0  One-to-four family dwelling (other than manufa...       Refinancing   \n",
       "1  One-to-four family dwelling (other than manufa...       Refinancing   \n",
       "2  One-to-four family dwelling (other than manufa...       Refinancing   \n",
       "3  One-to-four family dwelling (other than manufa...       Refinancing   \n",
       "4  One-to-four family dwelling (other than manufa...       Refinancing   \n",
       "\n",
       "                         owner_occupancy_name  loan_amount_000s  \\\n",
       "0      Owner-occupied as a principal dwelling              53.0   \n",
       "1      Owner-occupied as a principal dwelling             168.0   \n",
       "2      Owner-occupied as a principal dwelling             103.0   \n",
       "3  Not owner-occupied as a principal dwelling              88.0   \n",
       "4      Owner-occupied as a principal dwelling              90.0   \n",
       "\n",
       "  preapproval_name                            action_taken_name  \\\n",
       "0   Not applicable           Application withdrawn by applicant   \n",
       "1   Not applicable  Application denied by financial institution   \n",
       "2   Not applicable               File closed for incompleteness   \n",
       "3   Not applicable                              Loan originated   \n",
       "4   Not applicable           Application withdrawn by applicant   \n",
       "\n",
       "                                    msamd_name  ... rate_spread  \\\n",
       "0                            Philadelphia - PA  ...         NaN   \n",
       "1                 Spokane, Spokane Valley - WA  ...         NaN   \n",
       "2                          Salt Lake City - UT  ...         NaN   \n",
       "3                             Springfield - MO  ...         NaN   \n",
       "4  Chicago, Naperville, Arlington Heights - IL  ...         NaN   \n",
       "\n",
       "  hoepa_status_name         lien_status_name population minority_population  \\\n",
       "0  Not a HOEPA loan  Secured by a first lien     3202.0           97.279999   \n",
       "1  Not a HOEPA loan  Secured by a first lien     3733.0            4.580000   \n",
       "2  Not a HOEPA loan  Secured by a first lien     5498.0           37.919998   \n",
       "3  Not a HOEPA loan  Secured by a first lien     3566.0           11.830000   \n",
       "4  Not a HOEPA loan  Secured by a first lien     2910.0           48.660000   \n",
       "\n",
       "  hud_median_family_income tract_to_msamd_income  \\\n",
       "0                  57400.0             47.540001   \n",
       "1                  63900.0             86.239998   \n",
       "2                  75400.0             63.939999   \n",
       "3                  55200.0             74.290001   \n",
       "4                  77500.0             79.250000   \n",
       "\n",
       "  number_of_owner_occupied_units number_of_1_to_4_family_units denied  \n",
       "0                          710.0                        1314.0      0  \n",
       "1                          861.0                        1241.0      1  \n",
       "2                         1270.0                        1658.0      0  \n",
       "3                          573.0                        1261.0      0  \n",
       "4                          599.0                          26.0      0  \n",
       "\n",
       "[5 rows x 42 columns]"
      ]
     },
     "execution_count": 2,
     "metadata": {},
     "output_type": "execute_result"
    }
   ],
   "source": [
    "important_cols = ['respondent_id', 'agency_abbr', 'loan_type_name', 'property_type_name',\n",
    "       'loan_purpose_name', 'owner_occupancy_name', 'loan_amount_000s',\n",
    "       'preapproval_name', 'action_taken_name', 'msamd_name', 'state_abbr',\n",
    "       'county_name', 'census_tract_number', 'applicant_ethnicity_name',\n",
    "       'co_applicant_ethnicity_name', 'applicant_race_name_1',\n",
    "       'applicant_race_name_2', 'applicant_race_name_3',\n",
    "       'applicant_race_name_4', 'applicant_race_name_5',\n",
    "       'co_applicant_race_name_1', 'co_applicant_race_name_2',\n",
    "       'co_applicant_race_name_3', 'co_applicant_race_name_4',\n",
    "       'co_applicant_race_name_5', 'applicant_sex_name',\n",
    "       'co_applicant_sex_name', 'applicant_income_000s', 'purchaser_type_name',\n",
    "       'denial_reason_name_1', 'denial_reason_name_2', 'denial_reason_name_3',\n",
    "       'rate_spread', 'hoepa_status_name', 'lien_status_name', 'population',\n",
    "       'minority_population', 'hud_median_family_income',\n",
    "       'tract_to_msamd_income', 'number_of_owner_occupied_units',\n",
    "       'number_of_1_to_4_family_units']\n",
    "df_2017 = pd.read_csv('data/hmda_2017_nationwide_all-records_labels.csv',usecols = important_cols,nrows = 10000)\n",
    "df_2017['denied'] = df_2017[['denial_reason_name_1']].applymap(lambda x : 1 if x==x else 0)\n",
    "df_2017.head()"
   ]
  },
  {
   "cell_type": "code",
   "execution_count": 15,
   "metadata": {},
   "outputs": [],
   "source": [
    "df_2017.to_csv('sample_data/sample_2017.csv')"
   ]
  },
  {
   "cell_type": "code",
   "execution_count": 4,
   "metadata": {},
   "outputs": [
    {
     "data": {
      "text/html": [
       "<div>\n",
       "<style scoped>\n",
       "    .dataframe tbody tr th:only-of-type {\n",
       "        vertical-align: middle;\n",
       "    }\n",
       "\n",
       "    .dataframe tbody tr th {\n",
       "        vertical-align: top;\n",
       "    }\n",
       "\n",
       "    .dataframe thead th {\n",
       "        text-align: right;\n",
       "    }\n",
       "</style>\n",
       "<table border=\"1\" class=\"dataframe\">\n",
       "  <thead>\n",
       "    <tr style=\"text-align: right;\">\n",
       "      <th></th>\n",
       "      <th>respondent_id</th>\n",
       "      <th>agency_abbr</th>\n",
       "      <th>loan_type_name</th>\n",
       "      <th>property_type_name</th>\n",
       "      <th>loan_purpose_name</th>\n",
       "      <th>owner_occupancy_name</th>\n",
       "      <th>loan_amount_000s</th>\n",
       "      <th>preapproval_name</th>\n",
       "      <th>action_taken_name</th>\n",
       "      <th>msamd_name</th>\n",
       "      <th>...</th>\n",
       "      <th>rate_spread</th>\n",
       "      <th>hoepa_status_name</th>\n",
       "      <th>lien_status_name</th>\n",
       "      <th>population</th>\n",
       "      <th>minority_population</th>\n",
       "      <th>hud_median_family_income</th>\n",
       "      <th>tract_to_msamd_income</th>\n",
       "      <th>number_of_owner_occupied_units</th>\n",
       "      <th>number_of_1_to_4_family_units</th>\n",
       "      <th>denied</th>\n",
       "    </tr>\n",
       "  </thead>\n",
       "  <tbody>\n",
       "    <tr>\n",
       "      <th>0</th>\n",
       "      <td>75-2921540</td>\n",
       "      <td>HUD</td>\n",
       "      <td>Conventional</td>\n",
       "      <td>One-to-four family dwelling (other than manufa...</td>\n",
       "      <td>Refinancing</td>\n",
       "      <td>Owner-occupied as a principal dwelling</td>\n",
       "      <td>53.0</td>\n",
       "      <td>Not applicable</td>\n",
       "      <td>Application withdrawn by applicant</td>\n",
       "      <td>Philadelphia - PA</td>\n",
       "      <td>...</td>\n",
       "      <td>NaN</td>\n",
       "      <td>Not a HOEPA loan</td>\n",
       "      <td>Secured by a first lien</td>\n",
       "      <td>3202.0</td>\n",
       "      <td>97.279999</td>\n",
       "      <td>57400.0</td>\n",
       "      <td>47.540001</td>\n",
       "      <td>710.0</td>\n",
       "      <td>1314.0</td>\n",
       "      <td>0</td>\n",
       "    </tr>\n",
       "    <tr>\n",
       "      <th>1</th>\n",
       "      <td>0000504713</td>\n",
       "      <td>CFPB</td>\n",
       "      <td>Conventional</td>\n",
       "      <td>One-to-four family dwelling (other than manufa...</td>\n",
       "      <td>Refinancing</td>\n",
       "      <td>Owner-occupied as a principal dwelling</td>\n",
       "      <td>168.0</td>\n",
       "      <td>Not applicable</td>\n",
       "      <td>Application denied by financial institution</td>\n",
       "      <td>Spokane, Spokane Valley - WA</td>\n",
       "      <td>...</td>\n",
       "      <td>NaN</td>\n",
       "      <td>Not a HOEPA loan</td>\n",
       "      <td>Secured by a first lien</td>\n",
       "      <td>3733.0</td>\n",
       "      <td>4.580000</td>\n",
       "      <td>63900.0</td>\n",
       "      <td>86.239998</td>\n",
       "      <td>861.0</td>\n",
       "      <td>1241.0</td>\n",
       "      <td>1</td>\n",
       "    </tr>\n",
       "    <tr>\n",
       "      <th>2</th>\n",
       "      <td>7810600004</td>\n",
       "      <td>HUD</td>\n",
       "      <td>Conventional</td>\n",
       "      <td>One-to-four family dwelling (other than manufa...</td>\n",
       "      <td>Refinancing</td>\n",
       "      <td>Owner-occupied as a principal dwelling</td>\n",
       "      <td>103.0</td>\n",
       "      <td>Not applicable</td>\n",
       "      <td>File closed for incompleteness</td>\n",
       "      <td>Salt Lake City - UT</td>\n",
       "      <td>...</td>\n",
       "      <td>NaN</td>\n",
       "      <td>Not a HOEPA loan</td>\n",
       "      <td>Secured by a first lien</td>\n",
       "      <td>5498.0</td>\n",
       "      <td>37.919998</td>\n",
       "      <td>75400.0</td>\n",
       "      <td>63.939999</td>\n",
       "      <td>1270.0</td>\n",
       "      <td>1658.0</td>\n",
       "      <td>0</td>\n",
       "    </tr>\n",
       "    <tr>\n",
       "      <th>3</th>\n",
       "      <td>42-1739728</td>\n",
       "      <td>HUD</td>\n",
       "      <td>Conventional</td>\n",
       "      <td>One-to-four family dwelling (other than manufa...</td>\n",
       "      <td>Refinancing</td>\n",
       "      <td>Not owner-occupied as a principal dwelling</td>\n",
       "      <td>88.0</td>\n",
       "      <td>Not applicable</td>\n",
       "      <td>Loan originated</td>\n",
       "      <td>Springfield - MO</td>\n",
       "      <td>...</td>\n",
       "      <td>NaN</td>\n",
       "      <td>Not a HOEPA loan</td>\n",
       "      <td>Secured by a first lien</td>\n",
       "      <td>3566.0</td>\n",
       "      <td>11.830000</td>\n",
       "      <td>55200.0</td>\n",
       "      <td>74.290001</td>\n",
       "      <td>573.0</td>\n",
       "      <td>1261.0</td>\n",
       "      <td>0</td>\n",
       "    </tr>\n",
       "    <tr>\n",
       "      <th>4</th>\n",
       "      <td>42-1739728</td>\n",
       "      <td>HUD</td>\n",
       "      <td>Conventional</td>\n",
       "      <td>One-to-four family dwelling (other than manufa...</td>\n",
       "      <td>Refinancing</td>\n",
       "      <td>Owner-occupied as a principal dwelling</td>\n",
       "      <td>90.0</td>\n",
       "      <td>Not applicable</td>\n",
       "      <td>Application withdrawn by applicant</td>\n",
       "      <td>Chicago, Naperville, Arlington Heights - IL</td>\n",
       "      <td>...</td>\n",
       "      <td>NaN</td>\n",
       "      <td>Not a HOEPA loan</td>\n",
       "      <td>Secured by a first lien</td>\n",
       "      <td>2910.0</td>\n",
       "      <td>48.660000</td>\n",
       "      <td>77500.0</td>\n",
       "      <td>79.250000</td>\n",
       "      <td>599.0</td>\n",
       "      <td>26.0</td>\n",
       "      <td>0</td>\n",
       "    </tr>\n",
       "  </tbody>\n",
       "</table>\n",
       "<p>5 rows × 42 columns</p>\n",
       "</div>"
      ],
      "text/plain": [
       "  respondent_id agency_abbr loan_type_name  \\\n",
       "0    75-2921540         HUD   Conventional   \n",
       "1    0000504713        CFPB   Conventional   \n",
       "2    7810600004         HUD   Conventional   \n",
       "3    42-1739728         HUD   Conventional   \n",
       "4    42-1739728         HUD   Conventional   \n",
       "\n",
       "                                  property_type_name loan_purpose_name  \\\n",
       "0  One-to-four family dwelling (other than manufa...       Refinancing   \n",
       "1  One-to-four family dwelling (other than manufa...       Refinancing   \n",
       "2  One-to-four family dwelling (other than manufa...       Refinancing   \n",
       "3  One-to-four family dwelling (other than manufa...       Refinancing   \n",
       "4  One-to-four family dwelling (other than manufa...       Refinancing   \n",
       "\n",
       "                         owner_occupancy_name  loan_amount_000s  \\\n",
       "0      Owner-occupied as a principal dwelling              53.0   \n",
       "1      Owner-occupied as a principal dwelling             168.0   \n",
       "2      Owner-occupied as a principal dwelling             103.0   \n",
       "3  Not owner-occupied as a principal dwelling              88.0   \n",
       "4      Owner-occupied as a principal dwelling              90.0   \n",
       "\n",
       "  preapproval_name                            action_taken_name  \\\n",
       "0   Not applicable           Application withdrawn by applicant   \n",
       "1   Not applicable  Application denied by financial institution   \n",
       "2   Not applicable               File closed for incompleteness   \n",
       "3   Not applicable                              Loan originated   \n",
       "4   Not applicable           Application withdrawn by applicant   \n",
       "\n",
       "                                    msamd_name  ... rate_spread  \\\n",
       "0                            Philadelphia - PA  ...         NaN   \n",
       "1                 Spokane, Spokane Valley - WA  ...         NaN   \n",
       "2                          Salt Lake City - UT  ...         NaN   \n",
       "3                             Springfield - MO  ...         NaN   \n",
       "4  Chicago, Naperville, Arlington Heights - IL  ...         NaN   \n",
       "\n",
       "  hoepa_status_name         lien_status_name population minority_population  \\\n",
       "0  Not a HOEPA loan  Secured by a first lien     3202.0           97.279999   \n",
       "1  Not a HOEPA loan  Secured by a first lien     3733.0            4.580000   \n",
       "2  Not a HOEPA loan  Secured by a first lien     5498.0           37.919998   \n",
       "3  Not a HOEPA loan  Secured by a first lien     3566.0           11.830000   \n",
       "4  Not a HOEPA loan  Secured by a first lien     2910.0           48.660000   \n",
       "\n",
       "  hud_median_family_income tract_to_msamd_income  \\\n",
       "0                  57400.0             47.540001   \n",
       "1                  63900.0             86.239998   \n",
       "2                  75400.0             63.939999   \n",
       "3                  55200.0             74.290001   \n",
       "4                  77500.0             79.250000   \n",
       "\n",
       "  number_of_owner_occupied_units number_of_1_to_4_family_units denied  \n",
       "0                          710.0                        1314.0      0  \n",
       "1                          861.0                        1241.0      1  \n",
       "2                         1270.0                        1658.0      0  \n",
       "3                          573.0                        1261.0      0  \n",
       "4                          599.0                          26.0      0  \n",
       "\n",
       "[5 rows x 42 columns]"
      ]
     },
     "execution_count": 4,
     "metadata": {},
     "output_type": "execute_result"
    }
   ],
   "source": [
    "df_2017 = pd.read_csv('sample_data/sample_2017.csv').drop(columns = ['Unnamed: 0'])\n",
    "df_2017.head()"
   ]
  },
  {
   "cell_type": "code",
   "execution_count": 3,
   "metadata": {},
   "outputs": [
    {
     "data": {
      "text/html": [
       "<div>\n",
       "<style scoped>\n",
       "    .dataframe tbody tr th:only-of-type {\n",
       "        vertical-align: middle;\n",
       "    }\n",
       "\n",
       "    .dataframe tbody tr th {\n",
       "        vertical-align: top;\n",
       "    }\n",
       "\n",
       "    .dataframe thead th {\n",
       "        text-align: right;\n",
       "    }\n",
       "</style>\n",
       "<table border=\"1\" class=\"dataframe\">\n",
       "  <thead>\n",
       "    <tr style=\"text-align: right;\">\n",
       "      <th></th>\n",
       "      <th>loan_amount_000s</th>\n",
       "      <th>census_tract_number</th>\n",
       "      <th>applicant_income_000s</th>\n",
       "      <th>rate_spread</th>\n",
       "      <th>population</th>\n",
       "      <th>minority_population</th>\n",
       "      <th>hud_median_family_income</th>\n",
       "      <th>tract_to_msamd_income</th>\n",
       "      <th>number_of_owner_occupied_units</th>\n",
       "      <th>number_of_1_to_4_family_units</th>\n",
       "      <th>denied</th>\n",
       "    </tr>\n",
       "  </thead>\n",
       "  <tbody>\n",
       "    <tr>\n",
       "      <th>count</th>\n",
       "      <td>9994.000000</td>\n",
       "      <td>9964.000000</td>\n",
       "      <td>9025.000000</td>\n",
       "      <td>210.000000</td>\n",
       "      <td>9964.000000</td>\n",
       "      <td>9964.000000</td>\n",
       "      <td>9964.000000</td>\n",
       "      <td>9964.000000</td>\n",
       "      <td>9964.000000</td>\n",
       "      <td>9964.000000</td>\n",
       "      <td>10000.000000</td>\n",
       "    </tr>\n",
       "    <tr>\n",
       "      <th>mean</th>\n",
       "      <td>226.185111</td>\n",
       "      <td>1762.902636</td>\n",
       "      <td>108.377175</td>\n",
       "      <td>2.461619</td>\n",
       "      <td>5353.984845</td>\n",
       "      <td>39.056268</td>\n",
       "      <td>71092.071457</td>\n",
       "      <td>105.239846</td>\n",
       "      <td>1281.630470</td>\n",
       "      <td>1842.446909</td>\n",
       "      <td>0.214200</td>\n",
       "    </tr>\n",
       "    <tr>\n",
       "      <th>std</th>\n",
       "      <td>337.758730</td>\n",
       "      <td>2722.465640</td>\n",
       "      <td>268.432555</td>\n",
       "      <td>1.407000</td>\n",
       "      <td>2839.135675</td>\n",
       "      <td>30.852162</td>\n",
       "      <td>12746.477014</td>\n",
       "      <td>43.623546</td>\n",
       "      <td>769.914302</td>\n",
       "      <td>976.345479</td>\n",
       "      <td>0.410287</td>\n",
       "    </tr>\n",
       "    <tr>\n",
       "      <th>min</th>\n",
       "      <td>1.000000</td>\n",
       "      <td>1.000000</td>\n",
       "      <td>1.000000</td>\n",
       "      <td>1.500000</td>\n",
       "      <td>0.000000</td>\n",
       "      <td>0.000000</td>\n",
       "      <td>37900.000000</td>\n",
       "      <td>0.000000</td>\n",
       "      <td>0.000000</td>\n",
       "      <td>0.000000</td>\n",
       "      <td>0.000000</td>\n",
       "    </tr>\n",
       "    <tr>\n",
       "      <th>25%</th>\n",
       "      <td>100.000000</td>\n",
       "      <td>104.020000</td>\n",
       "      <td>50.000000</td>\n",
       "      <td>1.652500</td>\n",
       "      <td>3593.000000</td>\n",
       "      <td>12.680000</td>\n",
       "      <td>62600.000000</td>\n",
       "      <td>75.480003</td>\n",
       "      <td>793.750000</td>\n",
       "      <td>1264.000000</td>\n",
       "      <td>0.000000</td>\n",
       "    </tr>\n",
       "    <tr>\n",
       "      <th>50%</th>\n",
       "      <td>178.000000</td>\n",
       "      <td>401.595000</td>\n",
       "      <td>75.000000</td>\n",
       "      <td>1.890000</td>\n",
       "      <td>4975.500000</td>\n",
       "      <td>28.070000</td>\n",
       "      <td>73400.000000</td>\n",
       "      <td>100.669998</td>\n",
       "      <td>1182.000000</td>\n",
       "      <td>1692.000000</td>\n",
       "      <td>0.000000</td>\n",
       "    </tr>\n",
       "    <tr>\n",
       "      <th>75%</th>\n",
       "      <td>286.750000</td>\n",
       "      <td>2108.040000</td>\n",
       "      <td>119.000000</td>\n",
       "      <td>2.260000</td>\n",
       "      <td>6454.000000</td>\n",
       "      <td>65.180000</td>\n",
       "      <td>75400.000000</td>\n",
       "      <td>125.190002</td>\n",
       "      <td>1641.000000</td>\n",
       "      <td>2223.000000</td>\n",
       "      <td>0.000000</td>\n",
       "    </tr>\n",
       "    <tr>\n",
       "      <th>max</th>\n",
       "      <td>20000.000000</td>\n",
       "      <td>9801.000000</td>\n",
       "      <td>11390.000000</td>\n",
       "      <td>8.490000</td>\n",
       "      <td>53812.000000</td>\n",
       "      <td>100.000000</td>\n",
       "      <td>114200.000000</td>\n",
       "      <td>351.369995</td>\n",
       "      <td>13975.000000</td>\n",
       "      <td>15386.000000</td>\n",
       "      <td>1.000000</td>\n",
       "    </tr>\n",
       "  </tbody>\n",
       "</table>\n",
       "</div>"
      ],
      "text/plain": [
       "       loan_amount_000s  census_tract_number  applicant_income_000s  \\\n",
       "count       9994.000000          9964.000000            9025.000000   \n",
       "mean         226.185111          1762.902636             108.377175   \n",
       "std          337.758730          2722.465640             268.432555   \n",
       "min            1.000000             1.000000               1.000000   \n",
       "25%          100.000000           104.020000              50.000000   \n",
       "50%          178.000000           401.595000              75.000000   \n",
       "75%          286.750000          2108.040000             119.000000   \n",
       "max        20000.000000          9801.000000           11390.000000   \n",
       "\n",
       "       rate_spread    population  minority_population  \\\n",
       "count   210.000000   9964.000000          9964.000000   \n",
       "mean      2.461619   5353.984845            39.056268   \n",
       "std       1.407000   2839.135675            30.852162   \n",
       "min       1.500000      0.000000             0.000000   \n",
       "25%       1.652500   3593.000000            12.680000   \n",
       "50%       1.890000   4975.500000            28.070000   \n",
       "75%       2.260000   6454.000000            65.180000   \n",
       "max       8.490000  53812.000000           100.000000   \n",
       "\n",
       "       hud_median_family_income  tract_to_msamd_income  \\\n",
       "count               9964.000000            9964.000000   \n",
       "mean               71092.071457             105.239846   \n",
       "std                12746.477014              43.623546   \n",
       "min                37900.000000               0.000000   \n",
       "25%                62600.000000              75.480003   \n",
       "50%                73400.000000             100.669998   \n",
       "75%                75400.000000             125.190002   \n",
       "max               114200.000000             351.369995   \n",
       "\n",
       "       number_of_owner_occupied_units  number_of_1_to_4_family_units  \\\n",
       "count                     9964.000000                    9964.000000   \n",
       "mean                      1281.630470                    1842.446909   \n",
       "std                        769.914302                     976.345479   \n",
       "min                          0.000000                       0.000000   \n",
       "25%                        793.750000                    1264.000000   \n",
       "50%                       1182.000000                    1692.000000   \n",
       "75%                       1641.000000                    2223.000000   \n",
       "max                      13975.000000                   15386.000000   \n",
       "\n",
       "             denied  \n",
       "count  10000.000000  \n",
       "mean       0.214200  \n",
       "std        0.410287  \n",
       "min        0.000000  \n",
       "25%        0.000000  \n",
       "50%        0.000000  \n",
       "75%        0.000000  \n",
       "max        1.000000  "
      ]
     },
     "execution_count": 3,
     "metadata": {},
     "output_type": "execute_result"
    }
   ],
   "source": [
    "# Summary of all quantitative fields\n",
    "df_2017.describe()"
   ]
  },
  {
   "cell_type": "code",
   "execution_count": 4,
   "metadata": {},
   "outputs": [
    {
     "data": {
      "text/plain": [
       "respondent_id                        0\n",
       "agency_abbr                          0\n",
       "loan_type_name                       0\n",
       "property_type_name                   0\n",
       "loan_purpose_name                    0\n",
       "owner_occupancy_name                 0\n",
       "loan_amount_000s                     6\n",
       "preapproval_name                     0\n",
       "action_taken_name                    0\n",
       "msamd_name                         906\n",
       "state_abbr                           5\n",
       "county_name                         27\n",
       "census_tract_number                 36\n",
       "applicant_ethnicity_name             0\n",
       "co_applicant_ethnicity_name          0\n",
       "applicant_race_name_1                0\n",
       "applicant_race_name_2             9893\n",
       "applicant_race_name_3             9989\n",
       "applicant_race_name_4             9997\n",
       "applicant_race_name_5             9998\n",
       "co_applicant_race_name_1             0\n",
       "co_applicant_race_name_2          9974\n",
       "co_applicant_race_name_3          9998\n",
       "co_applicant_race_name_4          9999\n",
       "co_applicant_race_name_5          9999\n",
       "applicant_sex_name                   0\n",
       "co_applicant_sex_name                0\n",
       "applicant_income_000s              975\n",
       "purchaser_type_name                  0\n",
       "denial_reason_name_1              7858\n",
       "denial_reason_name_2              9499\n",
       "denial_reason_name_3              9922\n",
       "rate_spread                       9790\n",
       "hoepa_status_name                    0\n",
       "lien_status_name                     0\n",
       "population                          36\n",
       "minority_population                 36\n",
       "hud_median_family_income            36\n",
       "tract_to_msamd_income               36\n",
       "number_of_owner_occupied_units      36\n",
       "number_of_1_to_4_family_units       36\n",
       "denied                               0\n",
       "dtype: int64"
      ]
     },
     "execution_count": 4,
     "metadata": {},
     "output_type": "execute_result"
    }
   ],
   "source": [
    "# Null values for every field\n",
    "df_2017.isnull().sum(axis = 0)"
   ]
  },
  {
   "cell_type": "code",
   "execution_count": 32,
   "metadata": {},
   "outputs": [
    {
     "name": "stdout",
     "output_type": "stream",
     "text": [
      "Native Hawaiian or Other Pacific Islander                                            0.0066\n",
      "American Indian or Alaska Native                                                     0.0108\n",
      "Asian                                                                                0.0376\n",
      "Not applicable                                                                       0.0588\n",
      "Black or African American                                                            0.1110\n",
      "Information not provided by applicant in mail, Internet, or telephone application    0.2702\n",
      "White                                                                                0.5050\n",
      "Name: applicant_race_name_1, dtype: float64\n"
     ]
    },
    {
     "data": {
      "text/plain": [
       "<matplotlib.axes._subplots.AxesSubplot at 0x2ba5cf08700>"
      ]
     },
     "execution_count": 32,
     "metadata": {},
     "output_type": "execute_result"
    },
    {
     "data": {
      "image/png": "[encoded data removed]",
      "text/plain": [
       "<Figure size 432x288 with 1 Axes>"
      ]
     },
     "metadata": {
      "needs_background": "light"
     },
     "output_type": "display_data"
    }
   ],
   "source": [
    "# Plot Value Counts of Race\n",
    "prop_race = (df_2017['applicant_race_name_1'].value_counts() / df_2017.shape[0]).sort_values()\n",
    "print(prop_race)\n",
    "prop_race.plot(kind = 'barh',title = 'Count of Each Race')"
   ]
  },
  {
   "cell_type": "code",
   "execution_count": 33,
   "metadata": {},
   "outputs": [
    {
     "name": "stdout",
     "output_type": "stream",
     "text": [
      "applicant_race_name_1\n",
      "Not applicable                                                                       0.022109\n",
      "Information not provided by applicant in mail, Internet, or telephone application    0.169874\n",
      "American Indian or Alaska Native                                                     0.185185\n",
      "Native Hawaiian or Other Pacific Islander                                            0.227273\n",
      "White                                                                                0.243168\n",
      "Asian                                                                                0.268617\n",
      "Black or African American                                                            0.275676\n",
      "Name: denied, dtype: float64\n"
     ]
    },
    {
     "data": {
      "text/plain": [
       "<matplotlib.axes._subplots.AxesSubplot at 0x2ba5d221c70>"
      ]
     },
     "execution_count": 33,
     "metadata": {},
     "output_type": "execute_result"
    },
    {
     "data": {
      "image/png": "[encoded data removed]",
      "text/plain": [
       "<Figure size 432x288 with 1 Axes>"
      ]
     },
     "metadata": {
      "needs_background": "light"
     },
     "output_type": "display_data"
    }
   ],
   "source": [
    "# Plot mean denial by race\n",
    "mean_denial_by_race = df_2017.groupby(['applicant_race_name_1']).mean()['denied'].sort_values()\n",
    "print(mean_denial_by_race)\n",
    "mean_denial_by_race.plot(kind='barh', title='Rate of Denial by Race')"
   ]
  },
  {
   "cell_type": "code",
   "execution_count": 34,
   "metadata": {},
   "outputs": [
    {
     "name": "stdout",
     "output_type": "stream",
     "text": [
      "Not applicable                                                                       0.0596\n",
      "Hispanic or Latino                                                                   0.1040\n",
      "Information not provided by applicant in mail, Internet, or telephone application    0.2490\n",
      "Not Hispanic or Latino                                                               0.5874\n",
      "Name: applicant_ethnicity_name, dtype: float64\n"
     ]
    },
    {
     "data": {
      "text/plain": [
       "<matplotlib.axes._subplots.AxesSubplot at 0x2ba5cee2a60>"
      ]
     },
     "execution_count": 34,
     "metadata": {},
     "output_type": "execute_result"
    },
    {
     "data": {
      "image/png": "[encoded data removed]",
      "text/plain": [
       "<Figure size 432x288 with 1 Axes>"
      ]
     },
     "metadata": {
      "needs_background": "light"
     },
     "output_type": "display_data"
    }
   ],
   "source": [
    "# Plot count of each ethnicity\n",
    "prop_ethnicity = (df_2017['applicant_ethnicity_name'].value_counts() / df_2017.shape[0]).sort_values()\n",
    "print(prop_ethnicity)\n",
    "prop_ethnicity.plot(kind = 'barh',title = 'Count of Each Ethnicity')"
   ]
  },
  {
   "cell_type": "code",
   "execution_count": 35,
   "metadata": {},
   "outputs": [
    {
     "name": "stdout",
     "output_type": "stream",
     "text": [
      "applicant_ethnicity_name\n",
      "Not applicable                                                                       0.021812\n",
      "Information not provided by applicant in mail, Internet, or telephone application    0.160643\n",
      "Not Hispanic or Latino                                                               0.244297\n",
      "Hispanic or Latino                                                                   0.282692\n",
      "Name: denied, dtype: float64\n"
     ]
    },
    {
     "data": {
      "text/plain": [
       "<matplotlib.axes._subplots.AxesSubplot at 0x2ba5d2f22e0>"
      ]
     },
     "execution_count": 35,
     "metadata": {},
     "output_type": "execute_result"
    },
    {
     "data": {
      "image/png": "[encoded data removed]",
      "text/plain": [
       "<Figure size 432x288 with 1 Axes>"
      ]
     },
     "metadata": {
      "needs_background": "light"
     },
     "output_type": "display_data"
    }
   ],
   "source": [
    "# Plot mean denial by ethnicicity\n",
    "denial_rate_by_ethnicity = df_2017.groupby(['applicant_ethnicity_name']).mean()['denied'].sort_values()\n",
    "print(denial_rate_by_ethnicity)\n",
    "denial_rate_by_ethnicity.plot(kind='barh', title='Rate of Denial by Ethnicity')"
   ]
  },
  {
   "cell_type": "code",
   "execution_count": 36,
   "metadata": {},
   "outputs": [
    {
     "name": "stdout",
     "output_type": "stream",
     "text": [
      "loan_type_name\n",
      "FSA/RHS-guaranteed    0.0131\n",
      "VA-guaranteed         0.0836\n",
      "FHA-insured           0.1767\n",
      "Conventional          0.7266\n",
      "dtype: float64\n"
     ]
    },
    {
     "data": {
      "text/plain": [
       "<matplotlib.axes._subplots.AxesSubplot at 0x2ba5d33d400>"
      ]
     },
     "execution_count": 36,
     "metadata": {},
     "output_type": "execute_result"
    },
    {
     "data": {
      "image/png": "[encoded data removed]",
      "text/plain": [
       "<Figure size 432x288 with 1 Axes>"
      ]
     },
     "metadata": {
      "needs_background": "light"
     },
     "output_type": "display_data"
    }
   ],
   "source": [
    "# Plot proportion of each type of loan in data\n",
    "loan_prop = (df_2017.groupby('loan_type_name').size() / df_2017.shape[0]).sort_values()\n",
    "print(loan_prop)\n",
    "loan_prop.plot(kind = 'barh',title = 'Type of Loans in Data')"
   ]
  },
  {
   "cell_type": "code",
   "execution_count": 37,
   "metadata": {},
   "outputs": [
    {
     "data": {
      "text/plain": [
       "<matplotlib.axes._subplots.AxesSubplot at 0x2ba5d39d3d0>"
      ]
     },
     "execution_count": 37,
     "metadata": {},
     "output_type": "execute_result"
    },
    {
     "data": {
      "image/png": "[encoded data removed]",
      "text/plain": [
       "<Figure size 432x288 with 2 Axes>"
      ]
     },
     "metadata": {
      "needs_background": "light"
     },
     "output_type": "display_data"
    }
   ],
   "source": [
    "# Visualize correlation in Quantatative data\n",
    "corrmat = df_2017.corr()\n",
    "f, ax = plt.subplots()\n",
    "sns.heatmap(corrmat, square=True)"
   ]
  },
  {
   "cell_type": "code",
   "execution_count": 14,
   "metadata": {},
   "outputs": [
    {
     "name": "stdout",
     "output_type": "stream",
     "text": [
      "applicant_race_name_1\n",
      "Black or African American                                                            65.0\n",
      "American Indian or Alaska Native                                                     70.0\n",
      "Not applicable                                                                       73.0\n",
      "White                                                                                75.0\n",
      "Information not provided by applicant in mail, Internet, or telephone application    82.0\n",
      "Native Hawaiian or Other Pacific Islander                                            88.0\n",
      "Asian                                                                                90.0\n",
      "Name: applicant_income_000s, dtype: float64\n"
     ]
    },
    {
     "data": {
      "text/plain": [
       "<matplotlib.axes._subplots.AxesSubplot at 0x23782126c40>"
      ]
     },
     "execution_count": 14,
     "metadata": {},
     "output_type": "execute_result"
    },
    {
     "data": {
      "image/png": "[encoded data removed]",
      "text/plain": [
       "<Figure size 432x288 with 1 Axes>"
      ]
     },
     "metadata": {
      "needs_background": "light"
     },
     "output_type": "display_data"
    }
   ],
   "source": [
    "# Visualize applicant income by race\n",
    "incomes_by_race = df_2017.groupby('applicant_race_name_1').median()['applicant_income_000s'].sort_values()\n",
    "print(incomes_by_race)\n",
    "incomes_by_race.plot(kind = 'barh',title = 'Income by Race')"
   ]
  },
  {
   "cell_type": "code",
   "execution_count": 15,
   "metadata": {},
   "outputs": [
    {
     "name": "stdout",
     "output_type": "stream",
     "text": [
      "applicant_ethnicity_name\n",
      "Hispanic or Latino                                                                   62.0\n",
      "Not applicable                                                                       72.5\n",
      "Not Hispanic or Latino                                                               75.0\n",
      "Information not provided by applicant in mail, Internet, or telephone application    85.0\n",
      "Name: applicant_income_000s, dtype: float64\n"
     ]
    },
    {
     "data": {
      "text/plain": [
       "<matplotlib.axes._subplots.AxesSubplot at 0x237824ecfa0>"
      ]
     },
     "execution_count": 15,
     "metadata": {},
     "output_type": "execute_result"
    },
    {
     "data": {
      "image/png": "[encoded data removed]",
      "text/plain": [
       "<Figure size 432x288 with 1 Axes>"
      ]
     },
     "metadata": {
      "needs_background": "light"
     },
     "output_type": "display_data"
    }
   ],
   "source": [
    "# Visualize applicant income by ethnicity\n",
    "incomes_by_race = df_2017.groupby('applicant_ethnicity_name').median()['applicant_income_000s'].sort_values()\n",
    "print(incomes_by_race)\n",
    "incomes_by_race.plot(kind = 'barh',title = 'Income by Ethnicity')"
   ]
  },
  {
   "cell_type": "markdown",
   "metadata": {},
   "source": [
    "# PARAGRAPH NOTES\n",
    "\n",
    "For our project, we have decided to extract HDMA data from the consumer financial protection bureau on all records from 2017. In the future of our project, we may expand to include previous years, however, this data itself includes over 14 million observations and requires a lot of time to run and process, so including a range of data will be completed towards the end of the project, if decided. Additionally, we \"randomly\" select 10,000 rows for our analysis to save space/time, but will expand this to include all of the data after our code is complete. \n",
    "\n",
    "We have decided to focus on loan denial based on race and ethnicity, so we did some feature engineering to drop useless columns and create a binary column on a loan being denied/accepted. Additionally, there are several race columns, but the 2 through 5th listing had a majority of null values, so we decided to only use the first entry as the race of the individual. Since we are focusing on race, its important to note that the distribution in the data contains 64% White applicants, 11% Not provided, 10.5% Not applicable, and 13% part of a minority group. This distribution is poor, and raises other questions with the data collection that is useful for the project. However, it is still a good source for our project. For example, the mean denial rate for a white applicant [with all of the data] is .095, while the mean denial rate for an african american applicant is .174. This is a pretty drastic change, and is shown in a simple bar plot. \n",
    "\n",
    "We are also focusing on loan denial based on Ethnicity, so we did some exploration into the distribution of this feature. For Ethnicity we also had an undeven distribution like race with 59% not hispanic, 25% no information provided, 10% hispanic, and 6% not applicable. With this distribution we are questioning whether to consider ethnicity, since a lot more information is not included than the amount of hispanics in the data which could skew are results. We also had less difference between the denial rate for hispanic and not hispanic compared to the differences found in race as a result of minority groups also being present in the not hispanic group. Overall, we will likely focus our study mainly on Race but we will also consider ethnicity as another attribute since we will be able to run similar code for analysis based on race and ethnicity.  \n",
    "\n",
    "One more thing we looked into was the prevalence of different types of loans in our data. We found that most loans in our data were Conventional with 73% and a good portion were FHA-insured with 18% and VA-guaranteed with 8%, but only 1% of the data is FSA/RHS-guaranteed. As a result of this distribution, we are planning on focusing our analysis on Conventional loans to avoid confounding factors, but may also apply the analysis we do to FHA-insured and VA-guaranteed loans to see if our findings translate to different types of loans. \n"
   ]
  },
  {
   "cell_type": "markdown",
   "metadata": {},
   "source": []
  }
 ],
 "metadata": {
  "interpreter": {
   "hash": "2a165641d088a78236790ca7a38c911615b4b922c5d735f5312688dabe743b0c"
  },
  "kernelspec": {
   "display_name": "Python 3.8.3 ('base')",
   "language": "python",
   "name": "python3"
  },
  "language_info": {
   "codemirror_mode": {
    "name": "ipython",
    "version": 3
   },
   "file_extension": ".py",
   "mimetype": "text/x-python",
   "name": "python",
   "nbconvert_exporter": "python",
   "pygments_lexer": "ipython3",
   "version": "3.8.3"
  },
  "orig_nbformat": 4
 },
 "nbformat": 4,
 "nbformat_minor": 2
}
